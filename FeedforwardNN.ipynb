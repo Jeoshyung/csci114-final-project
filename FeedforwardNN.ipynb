{
 "cells": [
  {
   "cell_type": "code",
   "execution_count": 10,
   "metadata": {},
   "outputs": [],
   "source": [
    "import pandas as pd\n",
    "import matplotlib.pyplot as plt\n",
    "from sklearn.metrics import precision_score, recall_score, f1_score, confusion_matrix\n",
    "from sklearn.model_selection import train_test_split\n",
    "from sklearn.preprocessing import StandardScaler\n",
    "import torch\n",
    "from torch import nn\n",
    "from torch.utils.data import DataLoader, TensorDataset\n",
    "from sklearn.utils import resample\n",
    "from sklearn.metrics import accuracy_score\n",
    "\n",
    "# Loading Dataset\n",
    "df = pd.read_csv('data/predictive_maintenance.csv')"
   ]
  },
  {
   "cell_type": "markdown",
   "metadata": {},
   "source": [
    "## Feedforward Neural Network (Supervised)"
   ]
  },
  {
   "cell_type": "code",
   "execution_count": 11,
   "metadata": {},
   "outputs": [
    {
     "name": "stdout",
     "output_type": "stream",
     "text": [
      "Epoch [500/500], Loss: 0.0382\r"
     ]
    },
    {
     "data": {
      "image/png": "[encoded data removed]",
      "text/plain": [
       "<Figure size 640x480 with 1 Axes>"
      ]
     },
     "metadata": {},
     "output_type": "display_data"
    }
   ],
   "source": [
    "device = torch.device('cuda' if torch.cuda.is_available() else 'cpu')\n",
    "\n",
    "# Separate features and target\n",
    "X = df.drop(columns=['UDI', 'Product ID', 'Type', 'Target', 'Failure Type'])\n",
    "y = df['Target']\n",
    "\n",
    "# Combine features and target for balanced sampling \n",
    "df_balanced = pd.concat([X, y], axis=1)\n",
    "\n",
    "# Separate the minority (failures) and majority (non-failures) classes\n",
    "failures = df_balanced[df_balanced['Target'] == 1]\n",
    "non_failures = df_balanced[df_balanced['Target'] == 0]\n",
    "\n",
    "# Downsample the majority class (non-failures)\n",
    "non_failures_downsampled = resample(non_failures, replace=False, n_samples=len(failures), random_state=42)\n",
    "\n",
    "# Combine the downsampled non-failures and failures into a balanced dataset\n",
    "df_balanced = pd.concat([failures, non_failures_downsampled])\n",
    "\n",
    "X_balanced = df_balanced.drop(columns=['Target'])\n",
    "y_balanced = df_balanced['Target']\n",
    "\n",
    "# Normalize the features using StandardScaler\n",
    "scaler = StandardScaler()\n",
    "X_balanced = scaler.fit_transform(X_balanced)\n",
    "X_test = scaler.transform(X)  # Normalize the full test set\n",
    "\n",
    "# Train-test split (use the balanced dataset for training)\n",
    "X_train, _, y_train, _ = train_test_split(X_balanced, y_balanced, test_size=0.2, random_state=0)\n",
    "X_test, y_test = torch.tensor(X_test, dtype=torch.float32), torch.tensor(y.values, dtype=torch.float32).unsqueeze(1)\n",
    "\n",
    "# Convert data to PyTorch tensors\n",
    "X_train_tensor = torch.tensor(X_train, dtype=torch.float32)\n",
    "y_train_tensor = torch.tensor(y_train.values, dtype=torch.float32).unsqueeze(1)\n",
    "\n",
    "# Define DataLoaders\n",
    "batch_size = 16\n",
    "train_data = TensorDataset(X_train_tensor, y_train_tensor)\n",
    "test_data = TensorDataset(X_test, y_test)\n",
    "train_loader = DataLoader(train_data, batch_size=batch_size, shuffle=True)\n",
    "test_loader = DataLoader(test_data, batch_size=batch_size, shuffle=False)\n",
    "\n",
    "class FeedForwardNN(nn.Module):\n",
    "    def __init__(self, input_size, hidden_size, output_size):\n",
    "        super(FeedForwardNN, self).__init__()\n",
    "        self.fc1 = nn.Linear(input_size, hidden_size)\n",
    "        self.fc2 = nn.Linear(hidden_size, hidden_size)\n",
    "        self.fc3 = nn.Linear(hidden_size, output_size)\n",
    "\n",
    "    def forward(self, x):\n",
    "        x = torch.relu(self.fc1(x))\n",
    "        x = torch.relu(self.fc2(x))\n",
    "        x = torch.sigmoid(self.fc3(x))\n",
    "        return x\n",
    "\n",
    "# Initialize the model, loss function, and optimizer\n",
    "input_size = X_train.shape[1]\n",
    "hidden_size = 64\n",
    "output_size = 1\n",
    "learning_rate = 0.0005\n",
    "\n",
    "model = FeedForwardNN(input_size=input_size, hidden_size=hidden_size, output_size=output_size).to(device)\n",
    "loss_fn = nn.BCELoss()  # Binary Cross-Entropy Loss\n",
    "optimizer = torch.optim.Adam(model.parameters(), lr=learning_rate)\n",
    "\n",
    "# Training Loop\n",
    "num_epochs = 500\n",
    "loss_values = []\n",
    "\n",
    "model.train()\n",
    "for epoch in range(num_epochs):\n",
    "    running_loss = 0.0\n",
    "    for batch_X, batch_y in train_loader:\n",
    "        batch_X, batch_y = batch_X.to(device), batch_y.to(device)\n",
    "\n",
    "        # Zero the gradients\n",
    "        optimizer.zero_grad()\n",
    "\n",
    "        # Forward pass\n",
    "        preds = model(batch_X)\n",
    "        loss = loss_fn(preds, batch_y)\n",
    "\n",
    "        # Backward pass\n",
    "        loss.backward()\n",
    "        optimizer.step()\n",
    "\n",
    "        # Keep track of loss\n",
    "        running_loss += loss.item()\n",
    "\n",
    "    avg_loss = running_loss / len(train_loader)\n",
    "    loss_values.append(avg_loss)\n",
    "    print(f'Epoch [{epoch+1}/{num_epochs}], Loss: {avg_loss:.4f}', end='\\r')\n",
    "\n",
    "# Plot loss curve\n",
    "plt.plot(loss_values)\n",
    "plt.title('Training Loss Curve')\n",
    "plt.xlabel('Epoch')\n",
    "plt.ylabel('Loss')\n",
    "plt.show()"
   ]
  },
  {
   "cell_type": "code",
   "execution_count": 12,
   "metadata": {},
   "outputs": [
    {
     "name": "stdout",
     "output_type": "stream",
     "text": [
      "Accuracy: 0.9488\n",
      "Precision: 0.3923\n",
      "Recall: 0.9292\n",
      "F1-Score: 0.5517\n",
      "Confusion Matrix:\n",
      "[[9173  488]\n",
      " [  24  315]]\n"
     ]
    }
   ],
   "source": [
    "# Evaluation\n",
    "threshold = 0.95\n",
    "model.eval()\n",
    "predictions = []\n",
    "true_labels = []\n",
    "\n",
    "with torch.no_grad():\n",
    "    for batch_X, batch_y in test_loader:\n",
    "        batch_X, batch_y = batch_X.to(device), batch_y.to(device)\n",
    "\n",
    "        preds = model(batch_X).squeeze()\n",
    "        predicted_labels = (preds > threshold).float()\n",
    "        predictions.extend(predicted_labels.cpu().numpy())\n",
    "        true_labels.extend(batch_y.cpu().numpy())\n",
    "\n",
    "# Calculate metrics\n",
    "accuracy = accuracy_score(true_labels, predictions)  # Calculate accuracy\n",
    "precision = precision_score(true_labels, predictions, zero_division=1)\n",
    "recall = recall_score(true_labels, predictions)\n",
    "f1 = f1_score(true_labels, predictions)\n",
    "conf_matrix = confusion_matrix(true_labels, predictions)\n",
    "\n",
    "# Print the metrics\n",
    "print(f'Accuracy: {accuracy:.4f}')\n",
    "print(f'Precision: {precision:.4f}')\n",
    "print(f'Recall: {recall:.4f}')\n",
    "print(f'F1-Score: {f1:.4f}')\n",
    "print('Confusion Matrix:')\n",
    "print(conf_matrix)\n",
    "\n",
    "torch.save(model.state_dict(), 'feedforward_nn_model.pth')"
   ]
  }
 ],
 "metadata": {
  "kernelspec": {
   "display_name": "Python 3",
   "language": "python",
   "name": "python3"
  },
  "language_info": {
   "codemirror_mode": {
    "name": "ipython",
    "version": 3
   },
   "file_extension": ".py",
   "mimetype": "text/x-python",
   "name": "python",
   "nbconvert_exporter": "python",
   "pygments_lexer": "ipython3",
   "version": "3.11.0"
  }
 },
 "nbformat": 4,
 "nbformat_minor": 2
}
